{
 "cells": [
  {
   "cell_type": "markdown",
   "id": "0e469c8a",
   "metadata": {},
   "source": [
    "Exercise 5. Use color for emphasis"
   ]
  },
  {
   "cell_type": "markdown",
   "id": "3e8a417c",
   "metadata": {},
   "source": [
    "#### Setup"
   ]
  },
  {
   "cell_type": "code",
   "execution_count": null,
   "id": "047d9dc9",
   "metadata": {
    "deletable": false,
    "tags": [
     "setup"
    ]
   },
   "outputs": [],
   "source": [
    "# import matplotlib, colormap, and pandas\n",
    "from matplotlib import pyplot as plt\n",
    "from matplotlib import cm\n",
    "import pandas as pd\n",
    "\n",
    "# load data\n",
    "PF_data = pd.read_csv('PF_genus_counts_color.csv')\n",
    "SF_data = pd.read_csv('SF_genus_counts_color.csv')\n",
    "SLF_data = pd.read_csv('SLF_genus_counts_color.csv')\n",
    "PF_data.head(10)"
   ]
  },
  {
   "cell_type": "code",
   "execution_count": null,
   "id": "dcfb2070",
   "metadata": {},
   "outputs": [],
   "source": [
    "# display plots correctly\n",
    "%matplotlib inline"
   ]
  },
  {
   "cell_type": "markdown",
   "id": "079e0e0c",
   "metadata": {},
   "source": [
    "1. To start, run the Setup cells. You’ll notice a new column, `color_label`, in `PF_data`.   Any genus that appears in the top 5 by count for _any_ forest type is assigned a color. Then, run the cell below to load the graph we made in the last exercise."
   ]
  },
  {
   "cell_type": "code",
   "execution_count": null,
   "id": "b318baec",
   "metadata": {
    "deletable": false,
    "tags": [
     "cp1"
    ]
   },
   "outputs": [],
   "source": [
    "## YOUR SOLUTION HERE ##\n",
    "fig = plt.figure(figsize=(18,16), facecolor='lightgray', tight_layout=True) \n",
    "fig.subplots_adjust(hspace=.6)\n",
    "fig.suptitle('Species Counts in Primary, Secondary, and Selectively Logged Tapajos Forests', fontsize=20, y=1)\n",
    "plt.subplot(3,1,1)\n",
    "plt.bar(PF_data.genus, PF_data.counts)\n",
    "plt.xlabel('Primary Forest')\n",
    "plt.ylim((0,105))\n",
    "plt.xlim((-3,105))\n",
    "plt.xticks(rotation=-90, fontsize=13)\n",
    "plt.subplot(3,1,2)\n",
    "plt.bar(SF_data.genus, SF_data.counts)\n",
    "plt.xlabel('Secondary Forest')\n",
    "plt.ylim((0,105))\n",
    "plt.xlim((-3,105))\n",
    "plt.xticks(rotation=-90, fontsize=13)\n",
    "plt.subplot(3,1,3)\n",
    "plt.bar(SLF_data.genus, SLF_data.counts)\n",
    "plt.xlabel('Selectively Logged Forest')\n",
    "plt.ylim((0,105))\n",
    "plt.xlim((-3,105))\n",
    "plt.xticks(rotation=-90, fontsize=13)\n",
    "plt.show()"
   ]
  },
  {
   "cell_type": "markdown",
   "id": "6a172e5e",
   "metadata": {},
   "source": [
    "2. Assign the color parameter for each bar graph based on the `color_label` column of its respective dataframe."
   ]
  },
  {
   "cell_type": "code",
   "execution_count": null,
   "id": "e73ed471",
   "metadata": {
    "deletable": false,
    "tags": [
     "cp2"
    ]
   },
   "outputs": [],
   "source": [
    "## YOUR SOLUTION HERE ##\n",
    "fig = plt.figure(figsize=(18,16), facecolor='lightgray', tight_layout=True) \n",
    "fig.subplots_adjust(hspace=.6)\n",
    "fig.suptitle('Species Counts in Primary, Secondary, and Selectively Logged Tapajos Forests', fontsize=20, y=1)\n",
    "plt.subplot(3,1,1)\n",
    "plt.bar(PF_data.genus, PF_data.counts)\n",
    "plt.xlabel('Primary Forest')\n",
    "plt.ylim((0,105))\n",
    "plt.xlim((-3,105))\n",
    "plt.xticks(rotation=-90, fontsize=13)\n",
    "plt.subplot(3,1,2)\n",
    "plt.bar(SF_data.genus, SF_data.counts)\n",
    "plt.xlabel('Secondary Forest')\n",
    "plt.ylim((0,105))\n",
    "plt.xlim((-3,105))\n",
    "plt.xticks(rotation=-90, fontsize=13)\n",
    "plt.subplot(3,1,3)\n",
    "plt.bar(SLF_data.genus, SLF_data.counts)\n",
    "plt.xlabel('Selectively Logged Forest')\n",
    "plt.ylim((0,105))\n",
    "plt.xlim((-3,105))\n",
    "plt.xticks(rotation=-90, fontsize=13)\n",
    "plt.show()"
   ]
  },
  {
   "cell_type": "markdown",
   "id": "dd33dba2",
   "metadata": {},
   "source": [
    "<details>\n",
    "    <summary style=\"display:list-item; font-size:16px; color:blue;\"><i>What does this tell us?</i></summary>We can see that the colors are different for each \"top 5\" list. In other words, the most common plants are different in the three forest types. However, we can also see that there are more similarities in the color profiles for Primary and Selectively Logged Forests than either has with Secondary Forest."
   ]
  },
  {
   "cell_type": "code",
   "execution_count": null,
   "id": "4ddf801b",
   "metadata": {
    "deletable": false,
    "tags": [
     "cp3"
    ]
   },
   "outputs": [],
   "source": []
  }
 ],
 "metadata": {
  "kernelspec": {
   "display_name": "Python 3 (ipykernel)",
   "language": "python",
   "name": "python3"
  },
  "language_info": {
   "codemirror_mode": {
    "name": "ipython",
    "version": 3
   },
   "file_extension": ".py",
   "mimetype": "text/x-python",
   "name": "python",
   "nbconvert_exporter": "python",
   "pygments_lexer": "ipython3",
   "version": "3.8.10"
  }
 },
 "nbformat": 4,
 "nbformat_minor": 5
}
