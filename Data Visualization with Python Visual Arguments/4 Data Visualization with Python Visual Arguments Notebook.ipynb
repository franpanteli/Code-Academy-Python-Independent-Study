{
 "cells": [
  {
   "cell_type": "markdown",
   "id": "5ccd30bc",
   "metadata": {},
   "source": [
    "Exercise 4: Clean up subplots"
   ]
  },
  {
   "cell_type": "markdown",
   "id": "0dde01ac",
   "metadata": {},
   "source": [
    "#### Setup"
   ]
  },
  {
   "cell_type": "code",
   "execution_count": null,
   "id": "047d9dc9",
   "metadata": {
    "deletable": false,
    "tags": [
     "setup"
    ]
   },
   "outputs": [],
   "source": [
    "# import matplotlib and pandas\n",
    "from matplotlib import pyplot as plt\n",
    "import pandas as pd\n",
    "\n",
    "# load data\n",
    "PF_data = pd.read_csv('PF_genus_counts.csv')\n",
    "SF_data = pd.read_csv('SF_genus_counts.csv')\n",
    "SLF_data = pd.read_csv('SLF_genus_counts.csv')\n",
    "PF_data.head()"
   ]
  },
  {
   "cell_type": "code",
   "execution_count": null,
   "id": "7989e63b",
   "metadata": {},
   "outputs": [],
   "source": [
    "%matplotlib inline\n",
    "plt.rcParams['figure.figsize'] = (18, 16)\n",
    "plt.rcParams['figure.dpi'] = 70"
   ]
  },
  {
   "cell_type": "markdown",
   "id": "079e0e0c",
   "metadata": {},
   "source": [
    "1. To start, load the Setup cells. In the cell below, above the graph code from the last exercise, create a figure instance called `fig`. Give it the dimensions `(18,16)` and a background color of `'lightgray'`. Set the `tight_layout=True` to optimize the spacing around each subplot. Then run the cell below to improve the graph we made in the last exercise."
   ]
  },
  {
   "cell_type": "code",
   "execution_count": null,
   "id": "b318baec",
   "metadata": {
    "deletable": false,
    "tags": [
     "cp1"
    ]
   },
   "outputs": [],
   "source": [
    "## YOUR SOLUTION HERE ##\n",
    "fig = \n",
    "plt.subplot(3,1,1)\n",
    "plt.bar(PF_data.genus, PF_data.counts)\n",
    "plt.xlabel('Primary Forest')\n",
    "plt.ylim((0,105))\n",
    "plt.xlim((-3,105))\n",
    "plt.xticks(ha=\"left\", rotation=-45)\n",
    "plt.subplot(3,1,2)\n",
    "plt.bar(SF_data.genus, SF_data.counts)\n",
    "plt.xlabel('Secondary Forest')\n",
    "plt.ylim((0,105))\n",
    "plt.xlim((-3,105))\n",
    "plt.xticks(ha=\"left\", rotation=-45)\n",
    "plt.subplot(3,1,3)\n",
    "plt.bar(SLF_data.genus, SLF_data.counts)\n",
    "plt.xlabel('Selectively Logged Forest')\n",
    "plt.ylim((0,105))\n",
    "plt.xlim((-3,105))\n",
    "plt.xticks(ha=\"left\", rotation=-45)\n",
    "plt.show()"
   ]
  },
  {
   "cell_type": "markdown",
   "id": "8d481799",
   "metadata": {},
   "source": [
    "2. The sizing and background are good, but the labels are still very hard to read. Let's make them fully vertical by changing the `xticks` label rotation to `-90` and removing the horizontal alignment (`ha`) argument. Also, add the argument `fontsize=13` to each `xticks` function to make the `xticks` font bigger. Finally, let's add a title to the whole graph: `'Species Counts in Primary, Secondary, and Selectively Logged Tapajos Forests'`."
   ]
  },
  {
   "cell_type": "code",
   "execution_count": null,
   "id": "4ddf801b",
   "metadata": {
    "deletable": false,
    "tags": [
     "cp2"
    ]
   },
   "outputs": [],
   "source": [
    "## YOUR SOLUTION HERE ##\n",
    "fig = \n",
    "\n",
    "plt.subplot(3,1,1)\n",
    "plt.bar(PF_data.genus, PF_data.counts)\n",
    "plt.xlabel('Primary Forest')\n",
    "plt.ylim((0,105))\n",
    "plt.xlim((-3,105))\n",
    "plt.xticks(ha=\"left\", rotation=-45)\n",
    "plt.subplot(3,1,2)\n",
    "plt.bar(SF_data.genus, SF_data.counts)\n",
    "plt.xlabel('Secondary Forest')\n",
    "plt.ylim((0,105))\n",
    "plt.xlim((-3,105))\n",
    "plt.xticks(ha=\"left\", rotation=-45)\n",
    "plt.subplot(3,1,3)\n",
    "plt.bar(SLF_data.genus, SLF_data.counts)\n",
    "plt.xlabel('Selectively Logged Forest')\n",
    "plt.ylim((0,105))\n",
    "plt.xlim((-3,105))\n",
    "plt.xticks(ha=\"left\", rotation=-45)\n",
    "plt.show()"
   ]
  },
  {
   "cell_type": "markdown",
   "id": "ef59efd7",
   "metadata": {},
   "source": [
    "3. To make the title more readable, set the font size to `20`. Setting `tight_layout` to `True` will automatically squeeze the `(x,y)` positions of everything in the figure, which is why our `suptitle` is directly on top of the first graph. So, to give it a little breathing room, add the argument `y=1` to the `suptitle` function to explicitly set the title's y-position a little lower."
   ]
  },
  {
   "cell_type": "code",
   "execution_count": null,
   "id": "2970673d",
   "metadata": {
    "deletable": false,
    "scrolled": true,
    "tags": [
     "cp3"
    ]
   },
   "outputs": [],
   "source": [
    "## YOUR SOLUTION HERE ##\n",
    "fig = \n",
    "\n",
    "plt.subplot(3,1,1)\n",
    "plt.bar(PF_data.genus, PF_data.counts)\n",
    "plt.xlabel('Primary Forest', fontsize=14)\n",
    "plt.ylim((0,105))\n",
    "plt.xlim((-3,105))\n",
    "plt.xticks(ha=\"left\", rotation=-45)\n",
    "plt.subplot(3,1,2)\n",
    "plt.bar(SF_data.genus, SF_data.counts)\n",
    "plt.xlabel('Secondary Forest', fontsize=14)\n",
    "plt.ylim((0,105))\n",
    "plt.xlim((-3,105))\n",
    "plt.xticks(ha=\"left\", rotation=-45)\n",
    "plt.subplot(3,1,3)\n",
    "plt.bar(SLF_data.genus, SLF_data.counts)\n",
    "plt.xlabel('Selectively Logged Forest', fontsize=14)\n",
    "plt.ylim((0,105))\n",
    "plt.xlim((-3,105))\n",
    "plt.xticks(ha=\"left\", rotation=-45)\n",
    "plt.show()"
   ]
  },
  {
   "cell_type": "markdown",
   "id": "9ebcf7cd",
   "metadata": {},
   "source": [
    "This graph looks more intentional now, with a background color to make the subplots appear less \"floating\" and all labels visible. That said, the labels are small and hard to prioritize visually, and the point of the graph is still not obvious. We will address both of these concerns in the next exercise."
   ]
  },
  {
   "cell_type": "markdown",
   "id": "02dc0b5d",
   "metadata": {},
   "source": []
  }
 ],
 "metadata": {
  "kernelspec": {
   "display_name": "Python 3 (ipykernel)",
   "language": "python",
   "name": "python3"
  },
  "language_info": {
   "codemirror_mode": {
    "name": "ipython",
    "version": 3
   },
   "file_extension": ".py",
   "mimetype": "text/x-python",
   "name": "python",
   "nbconvert_exporter": "python",
   "pygments_lexer": "ipython3",
   "version": "3.8.10"
  }
 },
 "nbformat": 4,
 "nbformat_minor": 5
}
