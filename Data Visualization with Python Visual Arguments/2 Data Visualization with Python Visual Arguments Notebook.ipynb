{
 "cells": [
  {
   "cell_type": "markdown",
   "id": "b129998e",
   "metadata": {},
   "source": [
    "Exercise 2: Choose the right chart for the data"
   ]
  },
  {
   "cell_type": "markdown",
   "id": "ecc24865",
   "metadata": {},
   "source": [
    "#### Setup"
   ]
  },
  {
   "cell_type": "code",
   "execution_count": 1,
   "id": "047d9dc9",
   "metadata": {
    "deletable": false,
    "tags": [
     "setup"
    ]
   },
   "outputs": [
    {
     "data": {
      "text/html": [
       "<div>\n",
       "<style scoped>\n",
       "    .dataframe tbody tr th:only-of-type {\n",
       "        vertical-align: middle;\n",
       "    }\n",
       "\n",
       "    .dataframe tbody tr th {\n",
       "        vertical-align: top;\n",
       "    }\n",
       "\n",
       "    .dataframe thead th {\n",
       "        text-align: right;\n",
       "    }\n",
       "</style>\n",
       "<table border=\"1\" class=\"dataframe\">\n",
       "  <thead>\n",
       "    <tr style=\"text-align: right;\">\n",
       "      <th></th>\n",
       "      <th>family</th>\n",
       "      <th>trunk</th>\n",
       "      <th>leaves</th>\n",
       "      <th>total_height</th>\n",
       "    </tr>\n",
       "  </thead>\n",
       "  <tbody>\n",
       "    <tr>\n",
       "      <th>0</th>\n",
       "      <td>Fabaceae</td>\n",
       "      <td>8.250478</td>\n",
       "      <td>7.203633</td>\n",
       "      <td>15.450287</td>\n",
       "    </tr>\n",
       "    <tr>\n",
       "      <th>1</th>\n",
       "      <td>Urticaceae</td>\n",
       "      <td>9.109798</td>\n",
       "      <td>4.146398</td>\n",
       "      <td>13.251297</td>\n",
       "    </tr>\n",
       "    <tr>\n",
       "      <th>2</th>\n",
       "      <td>Salicaceae</td>\n",
       "      <td>6.042415</td>\n",
       "      <td>4.763158</td>\n",
       "      <td>10.805263</td>\n",
       "    </tr>\n",
       "    <tr>\n",
       "      <th>3</th>\n",
       "      <td>Annonaceae</td>\n",
       "      <td>7.748108</td>\n",
       "      <td>5.525405</td>\n",
       "      <td>13.270811</td>\n",
       "    </tr>\n",
       "    <tr>\n",
       "      <th>4</th>\n",
       "      <td>Boraginaceae</td>\n",
       "      <td>10.992045</td>\n",
       "      <td>4.327841</td>\n",
       "      <td>15.323295</td>\n",
       "    </tr>\n",
       "  </tbody>\n",
       "</table>\n",
       "</div>"
      ],
      "text/plain": [
       "         family      trunk    leaves  total_height\n",
       "0      Fabaceae   8.250478  7.203633     15.450287\n",
       "1    Urticaceae   9.109798  4.146398     13.251297\n",
       "2    Salicaceae   6.042415  4.763158     10.805263\n",
       "3    Annonaceae   7.748108  5.525405     13.270811\n",
       "4  Boraginaceae  10.992045  4.327841     15.323295"
      ]
     },
     "execution_count": 1,
     "metadata": {},
     "output_type": "execute_result"
    }
   ],
   "source": [
    "# import matplotlib and pandas\n",
    "from matplotlib import pyplot as plt\n",
    "import pandas as pd\n",
    "\n",
    "# load data\n",
    "avg_heights = pd.read_csv('average_heights.csv')\n",
    "avg_heights"
   ]
  },
  {
   "cell_type": "code",
   "execution_count": 2,
   "id": "dcb26c06",
   "metadata": {},
   "outputs": [],
   "source": [
    "# display charts correctly\n",
    "%matplotlib inline\n",
    "plt.rcParams['figure.figsize'] = (5, 3)\n",
    "plt.rcParams['figure.dpi'] = 75"
   ]
  },
  {
   "cell_type": "markdown",
   "id": "079e0e0c",
   "metadata": {},
   "source": [
    "1. Run the Setup cells to load our data. We’ll work from the `avg_heights` dataset. We want to visualize height, so we’ll use a vertical bar chart. First, make a bar chart of the trunk heights for each family using `avg_heights.trunk`."
   ]
  },
  {
   "cell_type": "code",
   "execution_count": 3,
   "id": "b318baec",
   "metadata": {
    "deletable": false,
    "tags": [
     "cp1"
    ]
   },
   "outputs": [
    {
     "data": {
      "image/png": "[encoded data removed]",
      "text/plain": [
       "<Figure size 375x225 with 1 Axes>"
      ]
     },
     "metadata": {},
     "output_type": "display_data"
    }
   ],
   "source": [
    "## YOUR SOLUTION HERE ##\n",
    "plt.bar(avg_heights.family, avg_heights.trunk, width = 0.35)\n",
    "plt.show()"
   ]
  },
  {
   "cell_type": "markdown",
   "id": "6a172e5e",
   "metadata": {},
   "source": [
    "2. To visualize the crown (leaf) height, let’s make this a stacked bar chart. Simply make a second bar chart for the crown heights using `avg_heights.leaves`, and add the argument `bottom = avg_heights.trunk` so that the bottom of the leaves bars are positioned at the top of the trunk bars."
   ]
  },
  {
   "cell_type": "code",
   "execution_count": 4,
   "id": "e73ed471",
   "metadata": {
    "deletable": false,
    "tags": [
     "cp2"
    ]
   },
   "outputs": [
    {
     "data": {
      "image/png": "[encoded data removed]",
      "text/plain": [
       "<Figure size 375x225 with 1 Axes>"
      ]
     },
     "metadata": {},
     "output_type": "display_data"
    }
   ],
   "source": [
    "## YOUR SOLUTION HERE ##\n",
    "plt.bar(avg_heights.family, avg_heights.trunk, width = 0.35)\n",
    "plt.bar(avg_heights.family, avg_heights.leaves, bottom=avg_heights.trunk, width = 0.35)\n",
    "plt.show()"
   ]
  },
  {
   "cell_type": "markdown",
   "id": "ffec3e73",
   "metadata": {},
   "source": [
    "<details>\n",
    "    <summary style=\"display:list-item; font-size:16px; color:blue;\"><i>What makes this visualization work well with the data? What could be improved to make it even clearer what the point is?</i></summary>\n",
    "\n",
    "We’d say that the vertical nature of the chart, with trunk on the bottom and leaves on top, works really well – it mimics how trees grow and is easy to interpret. It gives us the total height of the tree, and allows us to see the breakdown into trunk and leaves. It might be made even clearer with tree-like colors, not to mention a title and axis labels. </summary>\n"
   ]
  },
  {
   "cell_type": "markdown",
   "id": "8d481799",
   "metadata": {},
   "source": [
    "3. For good measure, add in a `title`, `xlabel` and `ylabel`: \"Trunk, Crown, and Total Height\", \"Family\", and \"Average Height (m)\", respectively. If you wish, change the graph colors and/or bar width."
   ]
  },
  {
   "cell_type": "code",
   "execution_count": 5,
   "id": "4ddf801b",
   "metadata": {
    "deletable": false,
    "tags": [
     "cp3"
    ]
   },
   "outputs": [
    {
     "data": {
      "image/png": "[encoded data removed]",
      "text/plain": [
       "<Figure size 375x225 with 1 Axes>"
      ]
     },
     "metadata": {},
     "output_type": "display_data"
    }
   ],
   "source": [
    "## YOUR SOLUTION HERE ##\n",
    "plt.bar(avg_heights.family, avg_heights.trunk, width = 0.35, color='tan')\n",
    "plt.bar(avg_heights.family, avg_heights.leaves, bottom=avg_heights.trunk, width = 0.45, color='forestgreen')\n",
    "plt.title('Trunk, Crown, and Total Height')\n",
    "plt.xlabel('Family')\n",
    "plt.ylabel('Average Height (m)')\n",
    "plt.show()"
   ]
  },
  {
   "cell_type": "code",
   "execution_count": null,
   "id": "6f0ffc91",
   "metadata": {},
   "outputs": [],
   "source": []
  }
 ],
 "metadata": {
  "kernelspec": {
   "display_name": "Python 3 (ipykernel)",
   "language": "python",
   "name": "python3"
  },
  "language_info": {
   "codemirror_mode": {
    "name": "ipython",
    "version": 3
   },
   "file_extension": ".py",
   "mimetype": "text/x-python",
   "name": "python",
   "nbconvert_exporter": "python",
   "pygments_lexer": "ipython3",
   "version": "3.8.10"
  }
 },
 "nbformat": 4,
 "nbformat_minor": 5
}
