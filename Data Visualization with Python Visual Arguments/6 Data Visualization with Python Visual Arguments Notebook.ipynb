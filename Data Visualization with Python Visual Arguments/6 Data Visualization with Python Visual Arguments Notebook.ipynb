{
 "cells": [
  {
   "cell_type": "markdown",
   "id": "fb413cf2",
   "metadata": {},
   "source": [
    "Exercise 6. Add annotations (pt. I)"
   ]
  },
  {
   "cell_type": "markdown",
   "id": "d67c7df7",
   "metadata": {},
   "source": [
    "#### Setup"
   ]
  },
  {
   "cell_type": "code",
   "execution_count": null,
   "id": "047d9dc9",
   "metadata": {
    "deletable": false,
    "tags": [
     "setup"
    ]
   },
   "outputs": [],
   "source": [
    "# [Add imports and any code provided for the learner here.]\n",
    "# import matplotlib, colormap, and pandas\n",
    "from matplotlib import pyplot as plt\n",
    "from matplotlib import cm\n",
    "import pandas as pd\n",
    "\n",
    "# load data\n",
    "PF_data = pd.read_csv('PF_genus_counts_color.csv')\n",
    "SF_data = pd.read_csv('SF_genus_counts_color.csv')\n",
    "SLF_data = pd.read_csv('SLF_genus_counts_color.csv')\n",
    "PF_data.head()"
   ]
  },
  {
   "cell_type": "code",
   "execution_count": null,
   "id": "1171294f",
   "metadata": {},
   "outputs": [],
   "source": [
    "# display the plots correctly\n",
    "%matplotlib inline"
   ]
  },
  {
   "cell_type": "markdown",
   "id": "079e0e0c",
   "metadata": {},
   "source": [
    "1. To start, run the Setup cells. Then, we’ll work on the cell below to improve the graph we made in the last exercise. Let’s take advantage of all the empty space we have at the top-right side of each graph and replace the x-axis (where real estate is already very crowded). Create annotations for ‘Primary Forest’, ‘Secondary Forest’ and ‘Selectively Logged Forest’ and position them in the top right corner – `xy` coordinates of `(95, 80)`. Delete the `xlabel` line for each graph. "
   ]
  },
  {
   "cell_type": "code",
   "execution_count": null,
   "id": "b318baec",
   "metadata": {
    "deletable": false,
    "tags": [
     "cp1"
    ]
   },
   "outputs": [],
   "source": [
    "## YOUR SOLUTION HERE ##\n",
    "fig = plt.figure(figsize=(18,16), facecolor='lightgray', tight_layout=True) \n",
    "fig.subplots_adjust(hspace=.6)\n",
    "fig.suptitle('Species Counts in Primary, Secondary, and Selectively Logged Tapajos Forests', fontsize=22, y=1)\n",
    "\n",
    "plt.subplot(3,1,1)\n",
    "plt.bar(PF_data.genus, PF_data.counts, color=PF_data.color_label)\n",
    "plt.annotate('Primary Forest', (95, 80))\n",
    "plt.ylim((0,105))\n",
    "plt.xlim((-3,105))\n",
    "plt.xticks(rotation=-90, fontsize=12)\n",
    "plt.subplot(3,1,2)\n",
    "plt.bar(SF_data.genus, SF_data.counts, color=SF_data.color_label)\n",
    "plt.annotate('Secondary Forest', (95, 80))\n",
    "plt.ylim((0,105))\n",
    "plt.xlim((-3,105))\n",
    "plt.xticks(rotation=-90, fontsize=12)\n",
    "plt.subplot(3,1,3)\n",
    "plt.bar(SLF_data.genus, SLF_data.counts, color=SLF_data.color_label)\n",
    "plt.annotate('Selectively Logged Forest', (95, 80))\n",
    "plt.ylim((0,105))\n",
    "plt.xlim((-3,105))\n",
    "plt.xticks(rotation=-90, fontsize=12)\n",
    "plt.show()"
   ]
  },
  {
   "cell_type": "markdown",
   "id": "6a172e5e",
   "metadata": {},
   "source": [
    "2. That definitely helps the axes to have more room, but these annotations don’t look great yet. Add some formatting: set the font size to 18, the horizontal alignment to `’right’`, and the background color to `’lightgray’`. "
   ]
  },
  {
   "cell_type": "code",
   "execution_count": null,
   "id": "e73ed471",
   "metadata": {
    "deletable": false,
    "tags": [
     "cp2"
    ]
   },
   "outputs": [],
   "source": [
    "## YOUR SOLUTION HERE ##\n",
    "fig = plt.figure(figsize=(18,16), facecolor='lightgray', tight_layout=True) \n",
    "fig.subplots_adjust(hspace=.6)\n",
    "fig.suptitle('Species Counts in Primary, Secondary, and Selectively Logged Tapajos Forests', fontsize=22, y=1)\n",
    "\n",
    "plt.subplot(3,1,1)\n",
    "plt.bar(PF_data.genus, PF_data.counts, color=PF_data.color_label)\n",
    "plt.annotate('Primary Forest', (95, 80), fontsize=18, ha='right', backgroundcolor='lightgray')\n",
    "plt.ylim((0,105))\n",
    "plt.xlim((-3,105))\n",
    "plt.xticks(rotation=-90, fontsize=12)\n",
    "plt.subplot(3,1,2)\n",
    "plt.bar(SF_data.genus, SF_data.counts, color=SF_data.color_label)\n",
    "plt.annotate('Secondary Forest', (95, 80), fontsize=18, ha='right', backgroundcolor='lightgray')\n",
    "plt.ylim((0,105))\n",
    "plt.xlim((-3,105))\n",
    "plt.xticks(rotation=-90, fontsize=12)\n",
    "plt.subplot(3,1,3)\n",
    "plt.bar(SLF_data.genus, SLF_data.counts, color=SLF_data.color_label)\n",
    "plt.annotate('Selectively Logged Forest', (95, 80), fontsize=18, ha='right', backgroundcolor='lightgray')\n",
    "plt.ylim((0,105))\n",
    "plt.xlim((-3,105))\n",
    "plt.xticks(rotation=-90, fontsize=12)\n",
    "plt.show()"
   ]
  },
  {
   "cell_type": "markdown",
   "id": "d2f9d530",
   "metadata": {},
   "source": [
    "<details>\n",
    "    <summary style=\"display:list-item; font-size:16px; color:blue;\"><i>What makes this work? Toggle to check:</i></summary>Increasing the font size and adding a background color makes these more eye-catching without making them distracting. The background color and alignment also help them labels to look purposeful rather than randomly floating. \n",
    "    </details>"
   ]
  }
 ],
 "metadata": {
  "kernelspec": {
   "display_name": "Python 3 (ipykernel)",
   "language": "python",
   "name": "python3"
  },
  "language_info": {
   "codemirror_mode": {
    "name": "ipython",
    "version": 3
   },
   "file_extension": ".py",
   "mimetype": "text/x-python",
   "name": "python",
   "nbconvert_exporter": "python",
   "pygments_lexer": "ipython3",
   "version": "3.8.10"
  }
 },
 "nbformat": 4,
 "nbformat_minor": 5
}
