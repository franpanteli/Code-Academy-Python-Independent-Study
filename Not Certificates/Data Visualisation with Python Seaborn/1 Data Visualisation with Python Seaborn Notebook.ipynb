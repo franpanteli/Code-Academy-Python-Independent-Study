{
 "cells": [
  {
   "cell_type": "markdown",
   "id": "5e0bc087",
   "metadata": {},
   "source": [
    "<details><summary style=\"display:list-item; font-size:16px; color:blue;\">Jupyter Help</summary>\n",
    "    \n",
    "Having trouble testing your work? Double-check that you have followed the steps below to write, run, save, and test your code!\n",
    "    \n",
    "[Click here for a walkthrough GIF of the steps below](https://static-assets.codecademy.com/Courses/ds-python/jupyter-help.gif)\n",
    "\n",
    "Run all initial cells to import libraries and datasets. Then follow these steps for each question:\n",
    "    \n",
    "1. Add your solution to the cell with `## YOUR SOLUTION HERE ## `.\n",
    "2. Run the cell by selecting the `Run` button or the `Shift`+`Enter` keys.\n",
    "3. Save your work by selecting the `Save` button, the `command`+`s` keys (Mac), or `control`+`s` keys (Windows).\n",
    "4. Select the `Test Work` button at the bottom left to test your work.\n",
    "\n",
    "![Screenshot of the buttons at the top of a Jupyter Notebook. The Run and Save buttons are highlighted](https://static-assets.codecademy.com/Paths/ds-python/jupyter-buttons.png)"
   ]
  },
  {
   "cell_type": "code",
   "execution_count": null,
   "id": "f0751c9b",
   "metadata": {
    "deletable": false,
    "tags": [
     "setup"
    ]
   },
   "outputs": [],
   "source": [
    "# imports\n",
    "import pandas as pd\n",
    "import matplotlib\n",
    "from matplotlib import pyplot as plt\n",
    "import seaborn as sns\n",
    "\n",
    "# datasets\n",
    "plants_wide = pd.read_csv('plants_wide.csv')\n",
    "plants_long = pd.read_csv('plants_long.csv')"
   ]
  },
  {
   "cell_type": "code",
   "execution_count": null,
   "id": "e9df99c2",
   "metadata": {
    "deletable": false
   },
   "outputs": [],
   "source": [
    "%matplotlib inline\n",
    "plt.rcParams['figure.dpi']=72"
   ]
  },
  {
   "cell_type": "markdown",
   "id": "079e0e0c",
   "metadata": {},
   "source": [
    "1. Let's look at the wide-format data that matplotlib uses. After running the first two code cells of the notebook, print the head of `plants_wide`.\n",
    "\n",
    "_Note: We've provided `%matplotlib inline` for you in a separate cell at the start of the notebook. We need to run this code to render our plots within a Jupyter Notebook._"
   ]
  },
  {
   "cell_type": "code",
   "execution_count": null,
   "id": "b318baec",
   "metadata": {
    "deletable": false,
    "tags": [
     "cp1"
    ]
   },
   "outputs": [],
   "source": [
    "## YOUR SOLUTION HERE ##\n",
    "plants_wide.head()"
   ]
  },
  {
   "cell_type": "markdown",
   "id": "8d481799",
   "metadata": {},
   "source": [
    "2. The wide-format data has a column for each of the five sets of plant heights. Run the provided code to see the plot produced by matplotlib."
   ]
  },
  {
   "cell_type": "code",
   "execution_count": null,
   "id": "e73ed471",
   "metadata": {
    "deletable": false,
    "tags": [
     "cp2"
    ]
   },
   "outputs": [],
   "source": [
    "# formatting parameters\n",
    "matplotlib.rcParams.update(\n",
    "                          {'font.size': 13,\n",
    "                           'axes.facecolor': '#EAEAF2',\n",
    "                           'axes.edgecolor': 'white',\n",
    "                           'axes.grid': True,\n",
    "                           'figure.facecolor': 'white',\n",
    "                           'grid.color': 'white',\n",
    "                           'grid.linestyle': '-',\n",
    "                           'lines.solid_capstyle': 'round'\n",
    "                          })\n",
    "\n",
    "# code for each line\n",
    "plt.plot(plants_wide.Time, plants_wide.Plant_height_1, color='blue', linestyle='-', linewidth=2, label='1')\n",
    "plt.plot(plants_wide.Time, plants_wide.Plant_height_2, color='tab:orange', linestyle='--', linewidth=2, label='2')\n",
    "plt.plot(plants_wide.Time, plants_wide.Plant_height_3, color='limegreen', linestyle=':', linewidth=2, label='3')\n",
    "plt.plot(plants_wide.Time, plants_wide.Plant_height_4, color='red', linestyle=(0, (3, 5, 1, 5)), linewidth=2, label='4')\n",
    "plt.plot(plants_wide.Time, plants_wide.Plant_height_5, color='tab:purple', linestyle='-.', linewidth=2, label='5')\n",
    "\n",
    "\n",
    "# titles and labels\n",
    "plt.title('Plant Height Over Time', fontsize=17)\n",
    "plt.xlabel('Time', fontsize=14)\n",
    "plt.ylabel('Plant Height', fontsize=14)\n",
    "plt.yticks([25,50,75,100,125,150])\n",
    "plt.legend(title = 'Plant', title_fontsize=14)\n",
    "\n",
    "plt.show()"
   ]
  },
  {
   "cell_type": "markdown",
   "id": "01bc2249",
   "metadata": {},
   "source": [
    "3. Let's look at the same data in long format, which is generally easier to use with seaborn. Print the head of `plants_long`."
   ]
  },
  {
   "cell_type": "code",
   "execution_count": null,
   "id": "4ddf801b",
   "metadata": {
    "deletable": false,
    "tags": [
     "cp3"
    ]
   },
   "outputs": [],
   "source": [
    "## YOUR SOLUTION HERE ##\n",
    "plants_long.head()"
   ]
  },
  {
   "cell_type": "markdown",
   "id": "ce2b39fa",
   "metadata": {},
   "source": [
    "4. The long-format data stores all plant heights in one column and stores the set numbers in another column. Now let's view the same plot created by seaborn using presets. Run the provided code to create the same plot with seaborn and `plants_long`."
   ]
  },
  {
   "cell_type": "code",
   "execution_count": null,
   "id": "cbcb44c8",
   "metadata": {
    "deletable": false,
    "scrolled": false,
    "tags": [
     "cp4"
    ]
   },
   "outputs": [],
   "source": [
    "# set seaborn style theme\n",
    "sns.set_theme(style=\"darkgrid\", font_scale=1.25)\n",
    "\n",
    "# code for plot with all lines\n",
    "p = sns.lineplot(data=plants_long, x='Time', y='Plant_height', hue='Plant', style='Plant', linewidth=2, palette='bright')\n",
    "\n",
    "# titles and labels\n",
    "p.set_xlabel('Time', fontsize=14)\n",
    "p.set_ylabel('Plant Height', fontsize=14)\n",
    "p.set_title('Plant Height Over Time', fontsize=16)\n",
    "\n",
    "plt.show()"
   ]
  }
 ],
 "metadata": {
  "kernelspec": {
   "display_name": "Python 3 (ipykernel)",
   "language": "python",
   "name": "python3"
  },
  "language_info": {
   "codemirror_mode": {
    "name": "ipython",
    "version": 3
   },
   "file_extension": ".py",
   "mimetype": "text/x-python",
   "name": "python",
   "nbconvert_exporter": "python",
   "pygments_lexer": "ipython3",
   "version": "3.8.10"
  }
 },
 "nbformat": 4,
 "nbformat_minor": 5
}
