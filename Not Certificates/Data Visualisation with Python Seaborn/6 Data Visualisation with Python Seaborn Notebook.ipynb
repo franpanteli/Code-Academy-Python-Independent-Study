{
 "cells": [
  {
   "cell_type": "markdown",
   "id": "af4a10f6",
   "metadata": {
    "deletable": false
   },
   "source": [
    "<details><summary style=\"display:list-item; font-size:16px; color:blue;\">Jupyter Help</summary>\n",
    "    \n",
    "Having trouble testing your work? Double-check that you have followed the steps below to write, run, save, and test your code!\n",
    "    \n",
    "[Click here for a walkthrough GIF of the steps below](https://static-assets.codecademy.com/Courses/ds-python/jupyter-help.gif)\n",
    "\n",
    "Run all initial cells to import libraries and datasets. Then follow these steps for each question:\n",
    "    \n",
    "1. Add your solution to the cell with `## YOUR SOLUTION HERE ## `.\n",
    "2. Run the cell by selecting the `Run` button or the `Shift`+`Enter` keys.\n",
    "3. Save your work by selecting the `Save` button, the `command`+`s` keys (Mac), or `control`+`s` keys (Windows).\n",
    "4. Select the `Test Work` button at the bottom left to test your work.\n",
    "\n",
    "![Screenshot of the buttons at the top of a Jupyter Notebook. The Run and Save buttons are highlighted](https://static-assets.codecademy.com/Paths/ds-python/jupyter-buttons.png)"
   ]
  },
  {
   "cell_type": "code",
   "execution_count": 1,
   "id": "047d9dc9",
   "metadata": {
    "deletable": false,
    "tags": [
     "setup"
    ]
   },
   "outputs": [],
   "source": [
    "import pandas as pd\n",
    "import seaborn as sns\n",
    "from matplotlib import pyplot as plt\n",
    "waste = pd.read_csv('waste.csv')"
   ]
  },
  {
   "cell_type": "code",
   "execution_count": 2,
   "id": "c482f1e1",
   "metadata": {
    "deletable": false
   },
   "outputs": [
    {
     "data": {
      "text/html": [
       "<div>\n",
       "<style scoped>\n",
       "    .dataframe tbody tr th:only-of-type {\n",
       "        vertical-align: middle;\n",
       "    }\n",
       "\n",
       "    .dataframe tbody tr th {\n",
       "        vertical-align: top;\n",
       "    }\n",
       "\n",
       "    .dataframe thead th {\n",
       "        text-align: right;\n",
       "    }\n",
       "</style>\n",
       "<table border=\"1\" class=\"dataframe\">\n",
       "  <thead>\n",
       "    <tr style=\"text-align: right;\">\n",
       "      <th></th>\n",
       "      <th>country</th>\n",
       "      <th>region</th>\n",
       "      <th>income</th>\n",
       "      <th>gdp</th>\n",
       "      <th>population</th>\n",
       "      <th>msw</th>\n",
       "      <th>e_waste</th>\n",
       "      <th>medical</th>\n",
       "      <th>hazard</th>\n",
       "      <th>plastic</th>\n",
       "      <th>metal</th>\n",
       "      <th>glass</th>\n",
       "    </tr>\n",
       "  </thead>\n",
       "  <tbody>\n",
       "    <tr>\n",
       "      <th>0</th>\n",
       "      <td>Aruba</td>\n",
       "      <td>LCN</td>\n",
       "      <td>High</td>\n",
       "      <td>35563.312500</td>\n",
       "      <td>103187</td>\n",
       "      <td>0.854100</td>\n",
       "      <td>NaN</td>\n",
       "      <td>NaN</td>\n",
       "      <td>NaN</td>\n",
       "      <td>NaN</td>\n",
       "      <td>NaN</td>\n",
       "      <td>NaN</td>\n",
       "    </tr>\n",
       "    <tr>\n",
       "      <th>1</th>\n",
       "      <td>Afghanistan</td>\n",
       "      <td>SAS</td>\n",
       "      <td>Low</td>\n",
       "      <td>2057.062256</td>\n",
       "      <td>34656032</td>\n",
       "      <td>0.162411</td>\n",
       "      <td>0.000577</td>\n",
       "      <td>0.000284</td>\n",
       "      <td>NaN</td>\n",
       "      <td>NaN</td>\n",
       "      <td>NaN</td>\n",
       "      <td>NaN</td>\n",
       "    </tr>\n",
       "    <tr>\n",
       "      <th>2</th>\n",
       "      <td>Angola</td>\n",
       "      <td>SSF</td>\n",
       "      <td>Lower Middle</td>\n",
       "      <td>8036.690430</td>\n",
       "      <td>25096150</td>\n",
       "      <td>0.167900</td>\n",
       "      <td>0.003666</td>\n",
       "      <td>0.000219</td>\n",
       "      <td>NaN</td>\n",
       "      <td>13.5</td>\n",
       "      <td>4.4</td>\n",
       "      <td>6.7</td>\n",
       "    </tr>\n",
       "    <tr>\n",
       "      <th>3</th>\n",
       "      <td>Albania</td>\n",
       "      <td>ECS</td>\n",
       "      <td>Upper Middle</td>\n",
       "      <td>13724.058594</td>\n",
       "      <td>2854191</td>\n",
       "      <td>0.381000</td>\n",
       "      <td>0.007007</td>\n",
       "      <td>0.000040</td>\n",
       "      <td>0.002002</td>\n",
       "      <td>9.6</td>\n",
       "      <td>4.8</td>\n",
       "      <td>4.5</td>\n",
       "    </tr>\n",
       "    <tr>\n",
       "      <th>4</th>\n",
       "      <td>Andorra</td>\n",
       "      <td>ECS</td>\n",
       "      <td>High</td>\n",
       "      <td>43711.800781</td>\n",
       "      <td>82431</td>\n",
       "      <td>0.521648</td>\n",
       "      <td>NaN</td>\n",
       "      <td>NaN</td>\n",
       "      <td>0.021691</td>\n",
       "      <td>11.3</td>\n",
       "      <td>2.6</td>\n",
       "      <td>8.2</td>\n",
       "    </tr>\n",
       "  </tbody>\n",
       "</table>\n",
       "</div>"
      ],
      "text/plain": [
       "       country region        income           gdp  population       msw  \\\n",
       "0        Aruba    LCN          High  35563.312500      103187  0.854100   \n",
       "1  Afghanistan    SAS           Low   2057.062256    34656032  0.162411   \n",
       "2       Angola    SSF  Lower Middle   8036.690430    25096150  0.167900   \n",
       "3      Albania    ECS  Upper Middle  13724.058594     2854191  0.381000   \n",
       "4      Andorra    ECS          High  43711.800781       82431  0.521648   \n",
       "\n",
       "    e_waste   medical    hazard  plastic  metal  glass  \n",
       "0       NaN       NaN       NaN      NaN    NaN    NaN  \n",
       "1  0.000577  0.000284       NaN      NaN    NaN    NaN  \n",
       "2  0.003666  0.000219       NaN     13.5    4.4    6.7  \n",
       "3  0.007007  0.000040  0.002002      9.6    4.8    4.5  \n",
       "4       NaN       NaN  0.021691     11.3    2.6    8.2  "
      ]
     },
     "execution_count": 2,
     "metadata": {},
     "output_type": "execute_result"
    }
   ],
   "source": [
    "%matplotlib inline\n",
    "plt.rcParams['figure.dpi']=72\n",
    "waste.head()"
   ]
  },
  {
   "cell_type": "markdown",
   "id": "079e0e0c",
   "metadata": {},
   "source": [
    "1. Run all initial code cells. Then create a histogram of the municipal solid waste (`msw`) of countries in the `waste` dataset. Do not specify `bins` parameter. The number of bins will be calculated automatically by seaborn."
   ]
  },
  {
   "cell_type": "code",
   "execution_count": 3,
   "id": "b318baec",
   "metadata": {
    "deletable": false,
    "tags": [
     "cp1"
    ]
   },
   "outputs": [
    {
     "data": {
      "image/png": "[encoded data removed]",
      "text/plain": [
       "<Figure size 460.8x345.6 with 1 Axes>"
      ]
     },
     "metadata": {},
     "output_type": "display_data"
    }
   ],
   "source": [
    "## YOUR SOLUTION HERE ##\n",
    "sns.histplot(data=waste, x='msw')\n",
    "plt.show()"
   ]
  },
  {
   "cell_type": "markdown",
   "id": "6a172e5e",
   "metadata": {},
   "source": [
    "2. Let's see how the shape of the previous histogram changes when we decrease the number of bins. Repeat the plot from question 1 but set the `bins` parameter to 5."
   ]
  },
  {
   "cell_type": "code",
   "execution_count": 4,
   "id": "e73ed471",
   "metadata": {
    "deletable": false,
    "tags": [
     "cp2"
    ]
   },
   "outputs": [
    {
     "data": {
      "image/png": "[encoded data removed]",
      "text/plain": [
       "<Figure size 460.8x345.6 with 1 Axes>"
      ]
     },
     "metadata": {},
     "output_type": "display_data"
    }
   ],
   "source": [
    "## YOUR SOLUTION HERE ##\n",
    "sns.histplot(data=waste, x='msw', bins=5)\n",
    "plt.show()"
   ]
  },
  {
   "cell_type": "markdown",
   "id": "8d481799",
   "metadata": {},
   "source": [
    "3. Now let's see what the same distribution looks like when we use a KDE plot. Plot `msw` in a KDE plot with shading below the curve."
   ]
  },
  {
   "cell_type": "code",
   "execution_count": 5,
   "id": "4ddf801b",
   "metadata": {
    "deletable": false,
    "tags": [
     "cp3"
    ]
   },
   "outputs": [
    {
     "data": {
      "image/png": "[encoded data removed]",
      "text/plain": [
       "<Figure size 460.8x345.6 with 1 Axes>"
      ]
     },
     "metadata": {},
     "output_type": "display_data"
    }
   ],
   "source": [
    "## YOUR SOLUTION HERE ##\n",
    "sns.kdeplot(data=waste, x='msw', fill=True)\n",
    "plt.show()"
   ]
  },
  {
   "cell_type": "markdown",
   "id": "7ccd29ae",
   "metadata": {},
   "source": [
    "4. Let's visualize more detailed information like the median, quartiles, and outliers. Create a box plot of `msw`."
   ]
  },
  {
   "cell_type": "code",
   "execution_count": 6,
   "id": "cbcb44c8",
   "metadata": {
    "deletable": false,
    "tags": [
     "cp4"
    ]
   },
   "outputs": [
    {
     "data": {
      "image/png": "[encoded data removed]",
      "text/plain": [
       "<Figure size 460.8x345.6 with 1 Axes>"
      ]
     },
     "metadata": {},
     "output_type": "display_data"
    }
   ],
   "source": [
    "## YOUR SOLUTION HERE ##\n",
    "sns.boxplot(data=waste, x='msw')\n",
    "plt.show()"
   ]
  },
  {
   "cell_type": "markdown",
   "id": "d83cce88",
   "metadata": {},
   "source": [
    "5. Finally, let's add a little more complexity to our box plot by displaying the `msw` distributions of countries from different income levels. Repeat the plot from question 4 but add `income` as the `y` parameter."
   ]
  },
  {
   "cell_type": "code",
   "execution_count": 7,
   "id": "cc63530f",
   "metadata": {
    "deletable": false,
    "scrolled": true,
    "tags": [
     "cp5"
    ]
   },
   "outputs": [
    {
     "data": {
      "image/png": "[encoded data removed]",
      "text/plain": [
       "<Figure size 460.8x345.6 with 1 Axes>"
      ]
     },
     "metadata": {},
     "output_type": "display_data"
    }
   ],
   "source": [
    "## YOUR SOLUTION HERE ##\n",
    "sns.boxplot(data=waste, x='msw', y='income')\n",
    "plt.show()"
   ]
  },
  {
   "cell_type": "code",
   "execution_count": null,
   "id": "868b4ba2",
   "metadata": {},
   "outputs": [],
   "source": []
  }
 ],
 "metadata": {
  "kernelspec": {
   "display_name": "Python 3 (ipykernel)",
   "language": "python",
   "name": "python3"
  },
  "language_info": {
   "codemirror_mode": {
    "name": "ipython",
    "version": 3
   },
   "file_extension": ".py",
   "mimetype": "text/x-python",
   "name": "python",
   "nbconvert_exporter": "python",
   "pygments_lexer": "ipython3",
   "version": "3.8.10"
  }
 },
 "nbformat": 4,
 "nbformat_minor": 5
}
