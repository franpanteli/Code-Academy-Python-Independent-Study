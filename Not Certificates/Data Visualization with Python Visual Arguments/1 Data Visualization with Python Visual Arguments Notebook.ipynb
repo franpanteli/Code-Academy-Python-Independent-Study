{
 "cells": [
  {
   "cell_type": "markdown",
   "id": "300d14a4",
   "metadata": {},
   "source": [
    "<details><summary style=\"display:list-item; font-size:16px; color:blue;\">Jupyter Help</summary>\n",
    "    \n",
    "Having trouble testing your work? Double-check that you have followed the steps below to write, run, save, and test your code!\n",
    "    \n",
    "[Click here for a walkthrough GIF of the steps below](https://static-assets.codecademy.com/Courses/ds-python/ART.2008.Jupyter.v2.gif)\n",
    "\n",
    "1. Add your solution to the cell with `## YOUR SOLUTION HERE ## `.\n",
    "2. Run the cell by selecting the `Run` button or the `Shift`+`Enter` keys.\n",
    "3. Save your work by selecting the `Save` button or the `command`+`s` keys (Mac) or `control`+`s` keys (Windows).\n",
    "4. Select the `Test Work` button at the bottom left to test your work.\n",
    "\n",
    "![Screenshot of the buttons at the top of a Jupyter Notebook. The Run and Save buttons are highlighted](https://static-assets.codecademy.com/Paths/ds-python/jupyter-buttons.png)"
   ]
  },
  {
   "cell_type": "markdown",
   "id": "43c5de98",
   "metadata": {},
   "source": [
    "Exercise 1: What is a visual argument?"
   ]
  },
  {
   "cell_type": "markdown",
   "id": "bb438e32",
   "metadata": {},
   "source": [
    "#### Setup"
   ]
  },
  {
   "cell_type": "code",
   "execution_count": null,
   "id": "047d9dc9",
   "metadata": {
    "deletable": false,
    "tags": [
     "setup"
    ]
   },
   "outputs": [],
   "source": [
    "# import pandas to view our data\n",
    "import pandas as pd\n",
    "\n",
    "# load datasets\n",
    "data = pd.read_csv('Tapajos_inventory_data_2010 - Tapajos_inventory_data_2010.csv')\n",
    "avg_heights = pd.read_csv('average_heights.csv')"
   ]
  },
  {
   "cell_type": "markdown",
   "id": "079e0e0c",
   "metadata": {},
   "source": [
    "1. Run the Setup cell above to import the necessary packages and load our datasets. Then, in the cell below, type `data.head()` and run the cell to preview the first five lines of the full dataset."
   ]
  },
  {
   "cell_type": "code",
   "execution_count": null,
   "id": "b318baec",
   "metadata": {
    "deletable": false,
    "tags": [
     "cp1"
    ]
   },
   "outputs": [],
   "source": [
    "## YOUR SOLUTION HERE ##\n",
    "data.head()"
   ]
  },
  {
   "cell_type": "markdown",
   "id": "458005d9",
   "metadata": {},
   "source": [
    "The image below demonstrates the difference between `ht_total`, `ht_crown_base`, and `depth_crown`. `density_wood` is the density of that species of wood (a previously established literature value)."
   ]
  },
  {
   "cell_type": "markdown",
   "id": "44efbb01",
   "metadata": {},
   "source": [
    "<img src=\"https://static-assets.codecademy.com/Courses/data-viz-with-python/tree-trunk-diagram.png\" alt=\"`ht_total` refers to the total height of tree: trunk and leaves. `ht_crown_base` refers to the height of the tree's trunk. `depth_crown` refers to the height of the tree's leafy portion.\" width=400 />"
   ]
  },
  {
   "cell_type": "markdown",
   "id": "6a172e5e",
   "metadata": {},
   "source": [
    "2. Type in `avg_heights` and run the cell to see the whole `avg_heights` dataset and compare the two datasets. What do they have in common, and how are they different?"
   ]
  },
  {
   "cell_type": "code",
   "execution_count": null,
   "id": "e73ed471",
   "metadata": {
    "deletable": false,
    "tags": [
     "cp2"
    ]
   },
   "outputs": [],
   "source": [
    "## YOUR SOLUTION HERE ##\n",
    "avg_heights"
   ]
  },
  {
   "cell_type": "markdown",
   "id": "82a95b41",
   "metadata": {},
   "source": [
    "<details>\n",
    "    <summary style=\"display:list-item; font-size:16px; color:blue;\"><i>What do the datasets have in common, and how are they different?</i></summary>\n",
    "While both datasets tell us about the types and size of trees around the Tapajos River in Brazil, `avg_heights` is an aggregated subset of the data in `tree_data`. It takes only five of the families (the 5 most common), and contains only three measures for each family: the average heights of the trunk, the leaf crown, and the full tree. </summary>"
   ]
  }
 ],
 "metadata": {
  "kernelspec": {
   "display_name": "Python 3 (ipykernel)",
   "language": "python",
   "name": "python3"
  },
  "language_info": {
   "codemirror_mode": {
    "name": "ipython",
    "version": 3
   },
   "file_extension": ".py",
   "mimetype": "text/x-python",
   "name": "python",
   "nbconvert_exporter": "python",
   "pygments_lexer": "ipython3",
   "version": "3.8.10"
  }
 },
 "nbformat": 4,
 "nbformat_minor": 5
}
