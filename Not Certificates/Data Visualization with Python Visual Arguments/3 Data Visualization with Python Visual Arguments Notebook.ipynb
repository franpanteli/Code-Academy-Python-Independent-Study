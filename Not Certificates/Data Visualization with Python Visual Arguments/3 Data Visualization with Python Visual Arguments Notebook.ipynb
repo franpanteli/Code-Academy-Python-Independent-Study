{
 "cells": [
  {
   "cell_type": "markdown",
   "id": "a9fb03e9",
   "metadata": {},
   "source": [
    "Exercise 3: Use subplots to compare multiple charts"
   ]
  },
  {
   "cell_type": "markdown",
   "id": "2d7e5386",
   "metadata": {},
   "source": [
    "#### Setup"
   ]
  },
  {
   "cell_type": "code",
   "execution_count": null,
   "id": "047d9dc9",
   "metadata": {
    "deletable": false,
    "tags": [
     "setup"
    ]
   },
   "outputs": [],
   "source": [
    "# import matplotlib and pandas\n",
    "from matplotlib import pyplot as plt\n",
    "import pandas as pd\n",
    "\n",
    "# load data\n",
    "PF_data = pd.read_csv('PF_genus_counts.csv')\n",
    "SF_data = pd.read_csv('SF_genus_counts.csv')\n",
    "SLF_data = pd.read_csv('SLF_genus_counts.csv')\n",
    "PF_data.head()"
   ]
  },
  {
   "cell_type": "code",
   "execution_count": null,
   "id": "27e6ce84",
   "metadata": {},
   "outputs": [],
   "source": [
    "# display charts correctly\n",
    "%matplotlib inline\n",
    "plt.rcParams['figure.figsize'] = (5, 3)\n",
    "plt.rcParams['figure.dpi'] = 75"
   ]
  },
  {
   "cell_type": "markdown",
   "id": "65e69672",
   "metadata": {},
   "source": [
    "This time, our tree data is subsetted by forest type: `PF` (primary forest), `SF` (secondary forest), and `SLF` (selectively logged forest). We’ll use multiple vertical bar charts to compare the counts of the most common trees in each forest type. Our goal for the next few visualizations is to **better understand biodiversity in the three different types of forest**.\n"
   ]
  },
  {
   "cell_type": "markdown",
   "id": "079e0e0c",
   "metadata": {},
   "source": [
    "1. Run the Setup cells above to load our data, and take a few minutes to look at the subsets. Then, make 3 subplots in a 3-row by 1-column grid. Make a barplot in each subplot, plotting `genus` on the x-axis and `counts` on the y-axis for each. Add an `xlabel` to each x-axis so we can keep track of which graph represents which forest. "
   ]
  },
  {
   "cell_type": "code",
   "execution_count": null,
   "id": "b318baec",
   "metadata": {
    "deletable": false,
    "tags": [
     "cp1"
    ]
   },
   "outputs": [],
   "source": [
    "## YOUR SOLUTION HERE ##\n",
    "\n",
    "plt.figure(figsize=(10, 5))  # we'll learn how to do this later in this lesson\n",
    "plt.subplot(3,1,1)\n",
    "plt.bar(PF_data.genus, PF_data.counts)\n",
    "plt.xlabel('Primary Forest')\n",
    "plt.subplot(3,1,2)\n",
    "plt.bar(SF_data.genus, SF_data.counts)\n",
    "plt.xlabel('Secondary Forest')\n",
    "plt.subplot(3,1,3)\n",
    "plt.bar(SLF_data.genus, SLF_data.counts)\n",
    "plt.xlabel('Selectively Logged Forest')\n",
    "plt.show()"
   ]
  },
  {
   "cell_type": "markdown",
   "id": "523d2c8c",
   "metadata": {},
   "source": [
    "<details>\n",
    "    <summary style=\"display:list-item; font-size:16px; color:blue;\"><i>Woah there! What do you notice? What could you say about the scales? The colors? The axis labels? We'll improve these graphs in the next few steps.</i></summary> Both the x-scale and y-scale are unstandardized -- in other words, different on the different graphs. The x-labels are totally unreadable, and the color doesn't mean anything at this point. </summary>"
   ]
  },
  {
   "cell_type": "markdown",
   "id": "6a172e5e",
   "metadata": {},
   "source": [
    "2. Okay, that's looking pretty hard to read right now -- we'll work on fixing up this graph throughout this exercise and the next one. To start, let's standardize the y-axes. The counts in the Secondary Forest graph are near 100, while the other two reach only to about 70. Change the y-axes range to `(0,105)` for each graph using `plt.ylim()`."
   ]
  },
  {
   "cell_type": "code",
   "execution_count": null,
   "id": "e73ed471",
   "metadata": {
    "deletable": false,
    "tags": [
     "cp2"
    ]
   },
   "outputs": [],
   "source": [
    "## YOUR SOLUTION HERE ##\n",
    "\n",
    "plt.figure(figsize=(10, 5))  # we'll learn how to do this later in this lesson\n",
    "plt.subplot(3,1,1)\n",
    "plt.bar(PF_data.genus, PF_data.counts)\n",
    "plt.xlabel('Primary Forest')\n",
    "plt.ylim((0,105))\n",
    "plt.subplot(3,1,2)\n",
    "plt.bar(SF_data.genus, SF_data.counts)\n",
    "plt.xlabel('Secondary Forest')\n",
    "plt.ylim((0,105))\n",
    "plt.subplot(3,1,3)\n",
    "plt.bar(SLF_data.genus, SLF_data.counts)\n",
    "plt.xlabel('Selectively Logged Forest')\n",
    "plt.ylim((0,105))\n",
    "plt.show()"
   ]
  },
  {
   "cell_type": "markdown",
   "id": "8d481799",
   "metadata": {},
   "source": [
    "3. Looking better already! But do you notice that the bars are _slightly_ wider in the middle graph? Let's standardize the x-axis too, by setting the `xlim` to `(-3, 105)` to give a cushion on either side of the graph."
   ]
  },
  {
   "cell_type": "code",
   "execution_count": null,
   "id": "4ddf801b",
   "metadata": {
    "deletable": false,
    "tags": [
     "cp3"
    ]
   },
   "outputs": [],
   "source": [
    "## YOUR SOLUTION HERE ##\n",
    "\n",
    "plt.figure(figsize=(10, 5))  # we'll learn how to do this later in this lesson\n",
    "plt.subplot(3,1,1)\n",
    "plt.bar(PF_data.genus, PF_data.counts)\n",
    "plt.xlabel('Primary Forest')\n",
    "plt.ylim((0,105))\n",
    "plt.xlim((-3,105))\n",
    "plt.subplot(3,1,2)\n",
    "plt.bar(SF_data.genus, SF_data.counts)\n",
    "plt.xlabel('Secondary Forest')\n",
    "plt.ylim((0,105))\n",
    "plt.xlim((-3,105))\n",
    "plt.subplot(3,1,3)\n",
    "plt.bar(SLF_data.genus, SLF_data.counts)\n",
    "plt.xlabel('Selectively Logged Forest')\n",
    "plt.ylim((0,105))\n",
    "plt.xlim((-3,105))\n",
    "plt.show()"
   ]
  },
  {
   "cell_type": "markdown",
   "id": "7ccd29ae",
   "metadata": {},
   "source": [
    "4. Now we have a real visual comparison going -- the number of trees in the top genuses are clearly higher in Secondary Forests, but it looks like Primary and Selectively Logged Forests have _more species_ of trees. Let's clean it up a little more by rotating the labels. Recall that we can use matplotlib's general function `plt.xticks()`, and pass in arguments for horizontal alignment, `ha`, and `rotation`. Set the horizontal alignment equal to `\"left\"` and the rotation equal to `-45` degrees."
   ]
  },
  {
   "cell_type": "code",
   "execution_count": null,
   "id": "cbcb44c8",
   "metadata": {
    "deletable": false,
    "tags": [
     "cp4"
    ]
   },
   "outputs": [],
   "source": [
    "## YOUR SOLUTION HERE ##\n",
    "\n",
    "plt.figure(figsize=(12, 5))  # we'll learn how to do this later in this lesson\n",
    "plt.subplot(3,1,1)\n",
    "plt.bar(PF_data.genus, PF_data.counts)\n",
    "plt.xlabel('Primary Forest')\n",
    "plt.ylim((0,105))\n",
    "plt.xlim((-3,105))\n",
    "plt.xticks(ha=\"left\", rotation=-45)\n",
    "plt.subplot(3,1,2)\n",
    "plt.bar(SF_data.genus, SF_data.counts)\n",
    "plt.xlabel('Secondary Forest')\n",
    "plt.ylim((0,105))\n",
    "plt.xlim((-3,105))\n",
    "plt.xticks(ha=\"left\", rotation=-45)\n",
    "plt.subplot(3,1,3)\n",
    "plt.bar(SLF_data.genus, SLF_data.counts)\n",
    "plt.xlabel('Selectively Logged Forest')\n",
    "plt.ylim((0,105))\n",
    "plt.xlim((-3,105))\n",
    "plt.xticks(ha=\"left\", rotation=-45)\n",
    "plt.show()"
   ]
  },
  {
   "cell_type": "markdown",
   "id": "e290116d",
   "metadata": {},
   "source": [
    "Well, that's still pretty messy! But we start to see that the _types_ of trees are different in each forest type, regardless of how many there are. Let's dig deeper and keep improving this graph and our visual argument in the next exercise. "
   ]
  }
 ],
 "metadata": {
  "kernelspec": {
   "display_name": "Python 3 (ipykernel)",
   "language": "python",
   "name": "python3"
  },
  "language_info": {
   "codemirror_mode": {
    "name": "ipython",
    "version": 3
   },
   "file_extension": ".py",
   "mimetype": "text/x-python",
   "name": "python",
   "nbconvert_exporter": "python",
   "pygments_lexer": "ipython3",
   "version": "3.8.10"
  }
 },
 "nbformat": 4,
 "nbformat_minor": 5
}
